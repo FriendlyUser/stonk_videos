{
  "nbformat": 4,
  "nbformat_minor": 0,
  "metadata": {
    "colab": {
      "provenance": [],
      "include_colab_link": true
    },
    "kernelspec": {
      "name": "python3",
      "display_name": "Python 3"
    },
    "language_info": {
      "name": "python"
    },
    "accelerator": "GPU",
    "gpuClass": "standard"
  },
  "cells": [
    {
      "cell_type": "markdown",
      "metadata": {
        "id": "view-in-github",
        "colab_type": "text"
      },
      "source": [
        "<a href=\"https://colab.research.google.com/github/FriendlyUser/stonk_videos/blob/main/bark_demo.ipynb\" target=\"_parent\"><img src=\"https://colab.research.google.com/assets/colab-badge.svg\" alt=\"Open In Colab\"/></a>"
      ]
    },
    {
      "cell_type": "markdown",
      "source": [
        "## Install"
      ],
      "metadata": {
        "id": "NO47mAC5iGH7"
      }
    },
    {
      "cell_type": "code",
      "source": [
        "# install bark as well as pytorch nightly to get blazing fast flash-attention\n",
        "!pip install git+https://github.com/suno-ai/bark.git && \\\n",
        "  pip uninstall -y torch torchvision torchaudio && \\\n",
        "  pip install --pre torch torchvision torchaudio --index-url https://download.pytorch.org/whl/nightly/cu118"
      ],
      "metadata": {
        "id": "8KV3klnr-lvo",
        "colab": {
          "base_uri": "https://localhost:8080/"
        },
        "outputId": "4fd9ecf4-ba74-4c2f-bc37-775faca44dce"
      },
      "execution_count": null,
      "outputs": [
        {
          "output_type": "stream",
          "name": "stdout",
          "text": [
            "Looking in indexes: https://pypi.org/simple, https://us-python.pkg.dev/colab-wheels/public/simple/\n",
            "Collecting git+https://github.com/suno-ai/bark.git\n",
            "  Cloning https://github.com/suno-ai/bark.git to /tmp/pip-req-build-x89sic2q\n",
            "  Running command git clone --filter=blob:none --quiet https://github.com/suno-ai/bark.git /tmp/pip-req-build-x89sic2q\n",
            "  Resolved https://github.com/suno-ai/bark.git to commit 97c6019ecdf1a70fdb313835c3bb3f770a0459e4\n",
            "  Installing build dependencies ... \u001b[?25l\u001b[?25hdone\n",
            "  Getting requirements to build wheel ... \u001b[?25l\u001b[?25hdone\n",
            "  Installing backend dependencies ... \u001b[?25l\u001b[?25hdone\n",
            "  Preparing metadata (pyproject.toml) ... \u001b[?25l\u001b[?25hdone\n",
            "Requirement already satisfied: transformers in /usr/local/lib/python3.9/dist-packages (from suno-bark==0.0.1a0) (4.28.1)\n",
            "Requirement already satisfied: funcy in /usr/local/lib/python3.9/dist-packages (from suno-bark==0.0.1a0) (2.0)\n",
            "Requirement already satisfied: tqdm in /usr/local/lib/python3.9/dist-packages (from suno-bark==0.0.1a0) (4.65.0)\n",
            "Requirement already satisfied: boto3 in /usr/local/lib/python3.9/dist-packages (from suno-bark==0.0.1a0) (1.26.118)\n",
            "Requirement already satisfied: tokenizers in /usr/local/lib/python3.9/dist-packages (from suno-bark==0.0.1a0) (0.13.3)\n",
            "Requirement already satisfied: torch in /usr/local/lib/python3.9/dist-packages (from suno-bark==0.0.1a0) (2.1.0.dev20230422+cu118)\n",
            "Requirement already satisfied: scipy in /usr/local/lib/python3.9/dist-packages (from suno-bark==0.0.1a0) (1.10.1)\n",
            "Requirement already satisfied: numpy in /usr/local/lib/python3.9/dist-packages (from suno-bark==0.0.1a0) (1.22.4)\n",
            "Requirement already satisfied: encodec in /usr/local/lib/python3.9/dist-packages (from suno-bark==0.0.1a0) (0.1.1)\n",
            "Requirement already satisfied: s3transfer<0.7.0,>=0.6.0 in /usr/local/lib/python3.9/dist-packages (from boto3->suno-bark==0.0.1a0) (0.6.0)\n",
            "Requirement already satisfied: jmespath<2.0.0,>=0.7.1 in /usr/local/lib/python3.9/dist-packages (from boto3->suno-bark==0.0.1a0) (1.0.1)\n",
            "Requirement already satisfied: botocore<1.30.0,>=1.29.118 in /usr/local/lib/python3.9/dist-packages (from boto3->suno-bark==0.0.1a0) (1.29.118)\n",
            "Requirement already satisfied: torchaudio in /usr/local/lib/python3.9/dist-packages (from encodec->suno-bark==0.0.1a0) (2.1.0.dev20230422+cu118)\n",
            "Requirement already satisfied: einops in /usr/local/lib/python3.9/dist-packages (from encodec->suno-bark==0.0.1a0) (0.6.1)\n",
            "Requirement already satisfied: filelock in /usr/local/lib/python3.9/dist-packages (from torch->suno-bark==0.0.1a0) (3.11.0)\n",
            "Requirement already satisfied: sympy in /usr/local/lib/python3.9/dist-packages (from torch->suno-bark==0.0.1a0) (1.11.1)\n",
            "Requirement already satisfied: networkx in /usr/local/lib/python3.9/dist-packages (from torch->suno-bark==0.0.1a0) (3.1)\n",
            "Requirement already satisfied: pytorch-triton==2.1.0+7d1a95b046 in /usr/local/lib/python3.9/dist-packages (from torch->suno-bark==0.0.1a0) (2.1.0+7d1a95b046)\n",
            "Requirement already satisfied: typing-extensions in /usr/local/lib/python3.9/dist-packages (from torch->suno-bark==0.0.1a0) (4.5.0)\n",
            "Requirement already satisfied: jinja2 in /usr/local/lib/python3.9/dist-packages (from torch->suno-bark==0.0.1a0) (3.1.2)\n",
            "Requirement already satisfied: huggingface-hub<1.0,>=0.11.0 in /usr/local/lib/python3.9/dist-packages (from transformers->suno-bark==0.0.1a0) (0.13.4)\n",
            "Requirement already satisfied: regex!=2019.12.17 in /usr/local/lib/python3.9/dist-packages (from transformers->suno-bark==0.0.1a0) (2022.10.31)\n",
            "Requirement already satisfied: packaging>=20.0 in /usr/local/lib/python3.9/dist-packages (from transformers->suno-bark==0.0.1a0) (23.1)\n",
            "Requirement already satisfied: requests in /usr/local/lib/python3.9/dist-packages (from transformers->suno-bark==0.0.1a0) (2.27.1)\n",
            "Requirement already satisfied: pyyaml>=5.1 in /usr/local/lib/python3.9/dist-packages (from transformers->suno-bark==0.0.1a0) (6.0)\n",
            "Requirement already satisfied: urllib3<1.27,>=1.25.4 in /usr/local/lib/python3.9/dist-packages (from botocore<1.30.0,>=1.29.118->boto3->suno-bark==0.0.1a0) (1.26.15)\n",
            "Requirement already satisfied: python-dateutil<3.0.0,>=2.1 in /usr/local/lib/python3.9/dist-packages (from botocore<1.30.0,>=1.29.118->boto3->suno-bark==0.0.1a0) (2.8.2)\n",
            "Requirement already satisfied: MarkupSafe>=2.0 in /usr/local/lib/python3.9/dist-packages (from jinja2->torch->suno-bark==0.0.1a0) (2.1.2)\n",
            "Requirement already satisfied: charset-normalizer~=2.0.0 in /usr/local/lib/python3.9/dist-packages (from requests->transformers->suno-bark==0.0.1a0) (2.0.12)\n",
            "Requirement already satisfied: idna<4,>=2.5 in /usr/local/lib/python3.9/dist-packages (from requests->transformers->suno-bark==0.0.1a0) (3.4)\n",
            "Requirement already satisfied: certifi>=2017.4.17 in /usr/local/lib/python3.9/dist-packages (from requests->transformers->suno-bark==0.0.1a0) (2022.12.7)\n",
            "Requirement already satisfied: mpmath>=0.19 in /usr/local/lib/python3.9/dist-packages (from sympy->torch->suno-bark==0.0.1a0) (1.3.0)\n",
            "Requirement already satisfied: six>=1.5 in /usr/local/lib/python3.9/dist-packages (from python-dateutil<3.0.0,>=2.1->botocore<1.30.0,>=1.29.118->boto3->suno-bark==0.0.1a0) (1.16.0)\n",
            "Found existing installation: torch 2.1.0.dev20230422+cu118\n",
            "Uninstalling torch-2.1.0.dev20230422+cu118:\n",
            "  Successfully uninstalled torch-2.1.0.dev20230422+cu118\n",
            "Found existing installation: torchvision 0.16.0.dev20230422+cu118\n",
            "Uninstalling torchvision-0.16.0.dev20230422+cu118:\n",
            "  Successfully uninstalled torchvision-0.16.0.dev20230422+cu118\n",
            "Found existing installation: torchaudio 2.1.0.dev20230422+cu118\n",
            "Uninstalling torchaudio-2.1.0.dev20230422+cu118:\n",
            "  Successfully uninstalled torchaudio-2.1.0.dev20230422+cu118\n",
            "Looking in indexes: https://download.pytorch.org/whl/nightly/cu118, https://us-python.pkg.dev/colab-wheels/public/simple/\n",
            "Collecting torch\n"
          ]
        }
      ]
    },
    {
      "cell_type": "markdown",
      "source": [
        "## Basics"
      ],
      "metadata": {
        "id": "7Ge31CAciLNJ"
      }
    },
    {
      "cell_type": "code",
      "source": [
        "from bark import SAMPLE_RATE, generate_audio, preload_models\n",
        "from IPython.display import Audio\n",
        "\n",
        "preload_models()"
      ],
      "metadata": {
        "id": "t9Vlr3RRt6B9"
      },
      "execution_count": null,
      "outputs": []
    },
    {
      "cell_type": "code",
      "source": [
        "text_lines = [\n",
        "    \"Hello and welcome to our video on First Republic Bank's earnings for Q1 2023. In this video, we'll be discussing some of the key factors that have impacted the bank's performance in the first quarter of this year.\",\n",
        "    \"One of the biggest factors that has impacted First Republic Bank's earnings in Q1 2023 is the falling stock price. The stock of FRC fell from $150 to around $15, which is a significant drop. This was due to a number of factors, including bank runs caused by higher interest rates.\",\n",
        "    \" Higher interest rates have led to increased competition among banks, which has led to bank runs as customers seek out the best rates. This has put pressure on banks like First Republic Bank to offer competitive rates, which has impacted their earnings\",\n",
        "    \"Another factor that has impacted First Republic Bank's earnings is the strong earnings of Western Alliance Bancorporation (WAL). The bank reported strong earnings in Q1 2023, which has put pressure on other banks, including First Republic Bank, to keep up.\",\n",
        "    \"Finally, the Federal Reserve has been holding rates around 4.5 to 5, which has impacted the earnings of First Republic Bank and other banks. Banks rely on interest rates to make money, so when rates are held low, it can impact their earnings.\",\n",
        "    \"Despite these challenges, First Republic Bank is working hard to overcome them and continue to provide quality service to its customers.\",\n",
        "    \"Thank you for watching our video on the upcoming First Republic Bank's earnings for Q1 2023. We hope you found this information useful. If you have any questions or comments, please leave them in the comments section below.\",\n",
        "]\n",
        "\n",
        "for line in text_lines:\n",
        "  audio_array = generate_audio(line)\n",
        "  Audio(audio_array, rate=SAMPLE_RATE)\n",
        "  print(\"audio for line\" + line)"
      ],
      "metadata": {
        "id": "NyYQ--3YksJY"
      },
      "execution_count": null,
      "outputs": []
    }
  ]
}